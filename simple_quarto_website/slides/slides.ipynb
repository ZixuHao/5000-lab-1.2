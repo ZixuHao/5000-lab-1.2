{
 "cells": [
  {
   "cell_type": "markdown",
   "metadata": {},
   "source": [
    "---\n",
    "title: \"My Presentation\"\n",
    "author: \"Zixu Hao\"\n",
    "date: \"2024-09-16\"\n",
    "format: revealjs\n",
    "bibliography: reference.bib\n",
    "---\n",
    "## Slide 1\n",
    "Welcome to my presentation!\n",
    "\n",
    "## Slide 2\n",
    "Here is an image:\n",
    "![Image 1](..\\images\\img1.jpg)\n",
    "\n",
    "## Slide 3\n",
    "Here is a citation [@waller2013data].\n",
    "## Slide 4\n",
    "Here is a Python plot:\n",
    "\n",
    "```{python}\n",
    "#| code-fold: true\n",
    "import matplotlib.pyplot as plt\n",
    "import numpy as np\n",
    "\n",
    "x = np.linspace(0, 10, 100)\n",
    "y = np.sin(x)\n",
    "\n",
    "plt.plot(x, y)\n",
    "plt.title(\"Sine Wave\")\n",
    "plt.show()\n",
    "```\n",
    "\n"
   ]
  },
  {
   "cell_type": "code",
   "execution_count": null,
   "metadata": {},
   "outputs": [],
   "source": []
  }
 ],
 "metadata": {
  "kernelspec": {
   "display_name": "base",
   "language": "python",
   "name": "python3"
  },
  "language_info": {
   "name": "python",
   "version": "3.9.13"
  }
 },
 "nbformat": 4,
 "nbformat_minor": 2
}
